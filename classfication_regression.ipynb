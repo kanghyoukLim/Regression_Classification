{
 "cells": [
  {
   "cell_type": "markdown",
   "id": "1c7bdf8f-3d4c-4fdf-b0e0-2bd9b598738e",
   "metadata": {},
   "source": [
    "# Classfication & Regression\n",
    "\n",
    "###### 2023.12.19 KH.LIm @MyOffice\n",
    "###### 딥러닝 파이토치 교과서 참고"
   ]
  },
  {
   "cell_type": "code",
   "execution_count": 1,
   "id": "036e596a-482e-40cf-bb65-969c43f4d640",
   "metadata": {},
   "outputs": [],
   "source": [
    "import torch\n",
    "import torch.nn as nn\n",
    "import numpy as np\n",
    "import pandas as pd\n",
    "import matplotlib.pyplot as plt\n",
    "import seaborn as sns\n",
    "%matplotlib inline"
   ]
  },
  {
   "cell_type": "code",
   "execution_count": 2,
   "id": "d8294f22-bc09-49de-a7af-9a18b9ef0486",
   "metadata": {
    "tags": []
   },
   "outputs": [
    {
     "data": {
      "text/html": [
       "<div>\n",
       "<style scoped>\n",
       "    .dataframe tbody tr th:only-of-type {\n",
       "        vertical-align: middle;\n",
       "    }\n",
       "\n",
       "    .dataframe tbody tr th {\n",
       "        vertical-align: top;\n",
       "    }\n",
       "\n",
       "    .dataframe thead th {\n",
       "        text-align: right;\n",
       "    }\n",
       "</style>\n",
       "<table border=\"1\" class=\"dataframe\">\n",
       "  <thead>\n",
       "    <tr style=\"text-align: right;\">\n",
       "      <th></th>\n",
       "      <th>price</th>\n",
       "      <th>maint</th>\n",
       "      <th>doors</th>\n",
       "      <th>persons</th>\n",
       "      <th>lug_capacity</th>\n",
       "      <th>safety</th>\n",
       "      <th>output</th>\n",
       "    </tr>\n",
       "  </thead>\n",
       "  <tbody>\n",
       "    <tr>\n",
       "      <th>0</th>\n",
       "      <td>vhigh</td>\n",
       "      <td>vhigh</td>\n",
       "      <td>2</td>\n",
       "      <td>2</td>\n",
       "      <td>small</td>\n",
       "      <td>low</td>\n",
       "      <td>unacc</td>\n",
       "    </tr>\n",
       "    <tr>\n",
       "      <th>1</th>\n",
       "      <td>vhigh</td>\n",
       "      <td>vhigh</td>\n",
       "      <td>2</td>\n",
       "      <td>2</td>\n",
       "      <td>small</td>\n",
       "      <td>med</td>\n",
       "      <td>unacc</td>\n",
       "    </tr>\n",
       "    <tr>\n",
       "      <th>2</th>\n",
       "      <td>vhigh</td>\n",
       "      <td>vhigh</td>\n",
       "      <td>2</td>\n",
       "      <td>2</td>\n",
       "      <td>small</td>\n",
       "      <td>high</td>\n",
       "      <td>unacc</td>\n",
       "    </tr>\n",
       "    <tr>\n",
       "      <th>3</th>\n",
       "      <td>vhigh</td>\n",
       "      <td>vhigh</td>\n",
       "      <td>2</td>\n",
       "      <td>2</td>\n",
       "      <td>med</td>\n",
       "      <td>low</td>\n",
       "      <td>unacc</td>\n",
       "    </tr>\n",
       "    <tr>\n",
       "      <th>4</th>\n",
       "      <td>vhigh</td>\n",
       "      <td>vhigh</td>\n",
       "      <td>2</td>\n",
       "      <td>2</td>\n",
       "      <td>med</td>\n",
       "      <td>med</td>\n",
       "      <td>unacc</td>\n",
       "    </tr>\n",
       "  </tbody>\n",
       "</table>\n",
       "</div>"
      ],
      "text/plain": [
       "   price  maint doors persons lug_capacity safety output\n",
       "0  vhigh  vhigh     2       2        small    low  unacc\n",
       "1  vhigh  vhigh     2       2        small    med  unacc\n",
       "2  vhigh  vhigh     2       2        small   high  unacc\n",
       "3  vhigh  vhigh     2       2          med    low  unacc\n",
       "4  vhigh  vhigh     2       2          med    med  unacc"
      ]
     },
     "execution_count": 2,
     "metadata": {},
     "output_type": "execute_result"
    }
   ],
   "source": [
    "dataset = pd.read_csv('../Regression_Classification/car_evaluation.csv')\n",
    "dataset.head()"
   ]
  },
  {
   "cell_type": "code",
   "execution_count": 3,
   "id": "aca9f04e-47d2-4a9c-8878-cb812d0dd848",
   "metadata": {},
   "outputs": [
    {
     "data": {
      "text/html": [
       "<div>\n",
       "<style scoped>\n",
       "    .dataframe tbody tr th:only-of-type {\n",
       "        vertical-align: middle;\n",
       "    }\n",
       "\n",
       "    .dataframe tbody tr th {\n",
       "        vertical-align: top;\n",
       "    }\n",
       "\n",
       "    .dataframe thead th {\n",
       "        text-align: right;\n",
       "    }\n",
       "</style>\n",
       "<table border=\"1\" class=\"dataframe\">\n",
       "  <thead>\n",
       "    <tr style=\"text-align: right;\">\n",
       "      <th></th>\n",
       "      <th>price</th>\n",
       "      <th>maint</th>\n",
       "      <th>doors</th>\n",
       "      <th>persons</th>\n",
       "      <th>lug_capacity</th>\n",
       "      <th>safety</th>\n",
       "      <th>output</th>\n",
       "    </tr>\n",
       "  </thead>\n",
       "  <tbody>\n",
       "    <tr>\n",
       "      <th>1725</th>\n",
       "      <td>low</td>\n",
       "      <td>low</td>\n",
       "      <td>5more</td>\n",
       "      <td>more</td>\n",
       "      <td>big</td>\n",
       "      <td>low</td>\n",
       "      <td>unacc</td>\n",
       "    </tr>\n",
       "    <tr>\n",
       "      <th>1726</th>\n",
       "      <td>low</td>\n",
       "      <td>low</td>\n",
       "      <td>5more</td>\n",
       "      <td>more</td>\n",
       "      <td>big</td>\n",
       "      <td>med</td>\n",
       "      <td>good</td>\n",
       "    </tr>\n",
       "    <tr>\n",
       "      <th>1727</th>\n",
       "      <td>low</td>\n",
       "      <td>low</td>\n",
       "      <td>5more</td>\n",
       "      <td>more</td>\n",
       "      <td>big</td>\n",
       "      <td>high</td>\n",
       "      <td>vgood</td>\n",
       "    </tr>\n",
       "  </tbody>\n",
       "</table>\n",
       "</div>"
      ],
      "text/plain": [
       "     price maint  doors persons lug_capacity safety output\n",
       "1725   low   low  5more    more          big    low  unacc\n",
       "1726   low   low  5more    more          big    med   good\n",
       "1727   low   low  5more    more          big   high  vgood"
      ]
     },
     "execution_count": 3,
     "metadata": {},
     "output_type": "execute_result"
    }
   ],
   "source": [
    "dataset.tail(3)"
   ]
  },
  {
   "cell_type": "markdown",
   "id": "b3617d37-099a-4547-8a88-0d27a158768e",
   "metadata": {},
   "source": [
    "### DATA 시각화"
   ]
  },
  {
   "cell_type": "code",
   "execution_count": 4,
   "id": "b8e27f90-afb0-4ff2-ae3a-4648e2f93ff6",
   "metadata": {},
   "outputs": [
    {
     "data": {
      "text/plain": [
       "<Axes: ylabel='output'>"
      ]
     },
     "execution_count": 4,
     "metadata": {},
     "output_type": "execute_result"
    },
    {
     "data": {
      "image/png": "[encoded data removed]",
      "text/plain": [
       "<Figure size 800x600 with 1 Axes>"
      ]
     },
     "metadata": {},
     "output_type": "display_data"
    }
   ],
   "source": [
    "fig_size = plt.rcParams[\"figure.figsize\"]    #현재 기본 그래프 크기 설정 가져오기\n",
    "fig_size[0] = 8   #그래프 폭 설정\n",
    "fig_size[1] = 6   #그래프 높이 설정\n",
    "plt.rcParams[\"figure.figsize\"] = fig_size    #변경된 그래프 크기 적용\n",
    "dataset.output.value_counts().plot(kind='pie', autopct= '%0.05f%%', colors=['lightblue', 'lightgreen', 'orange', 'pink'], explode=(0.05, 0.05, 0.05, 0.05))\n",
    "#데이터셋의 output 열 값 카운트하여 파이 차트로 그리기\n",
    "# autopct : 파이 조각에 표시될 비율 포맷지정\n",
    "# color 색상 지정\n",
    "# explode 파이 조각이 분리되어 표시될 때 각 섹션의 분리 정도"
   ]
  },
  {
   "cell_type": "markdown",
   "id": "27858610-c258-46fb-913f-5b243cfbd1ac",
   "metadata": {},
   "source": [
    "### 전처리\n",
    "\n",
    "주어진 데이터의 형태를 파악한 후 단어를 숫자(텐서)로 변환  \n",
    "astype()메서드를 이용하여 범주 특성을 갖는 데이터를 범주형 타입으로 변환(ex. 성별)  \n",
    "또한 파이토치를 이용한 모델 학습진행 되어야 하기 때문에 범주형 타입을 텐서로 변환"
   ]
  },
  {
   "cell_type": "code",
   "execution_count": 5,
   "id": "94ce6309-5f81-4f1d-888e-b69c11d55b70",
   "metadata": {},
   "outputs": [
    {
     "data": {
      "text/plain": [
       "array([[3, 3, 0, 0, 2, 1],\n",
       "       [3, 3, 0, 0, 2, 2],\n",
       "       [3, 3, 0, 0, 2, 0],\n",
       "       [3, 3, 0, 0, 1, 1],\n",
       "       [3, 3, 0, 0, 1, 2],\n",
       "       [3, 3, 0, 0, 1, 0],\n",
       "       [3, 3, 0, 0, 0, 1],\n",
       "       [3, 3, 0, 0, 0, 2],\n",
       "       [3, 3, 0, 0, 0, 0],\n",
       "       [3, 3, 0, 1, 2, 1]], dtype=int8)"
      ]
     },
     "execution_count": 5,
     "metadata": {},
     "output_type": "execute_result"
    }
   ],
   "source": [
    "categorical_columns = ['price', 'maint', 'doors', 'persons', 'lug_capacity', 'safety']     #범주형 데이터 열 지정\n",
    "\n",
    "for category in categorical_columns:\n",
    "    dataset[category] = dataset[category].astype('category') #astype()메서드를 이용하여 데이터를 범주형으로 변환\n",
    "\n",
    "# 각 범주형 열의 카테고리 코드를 추출하여 개별 변수에 저장\n",
    "price = dataset['price'].cat.codes.values\n",
    "maint = dataset['maint'].cat.codes.values\n",
    "doors = dataset['doors'].cat.codes.values\n",
    "persons = dataset['persons'].cat.codes.values\n",
    "lug_capacity = dataset['lug_capacity'].cat.codes.values\n",
    "safety = dataset['safety'].cat.codes.values\n",
    "\n",
    "# 카테고리 코드를 함께 쌓아서 범주형 데이터의 2차원 배열을 만듬\n",
    "categorical_data = np.stack([price, maint, doors, persons, lug_capacity, safety], 1)\n",
    "categorical_data[:10]"
   ]
  },
  {
   "cell_type": "markdown",
   "id": "b39ca5e9-d0de-4848-a77d-f6abd632d3c4",
   "metadata": {},
   "source": [
    "범주형 데이터를 텐서로 변환하기 위한 절차  \n",
    "  \n",
    "범주형데이터-->dataset[category] --> 넘파이배열(NumPy array) --> 텐서(Tensor)  \n",
    "  \n",
    "파이토치로 모델을 학습시키기 위해서는 텐서형태로 변화해야 함.   \n",
    "범주형 데이터(단어)를 숫자(넘파이 배열)로 변환하기 위해 cat.codes 를 사용\n",
    "cat.codes는 어떤 클래스가 어떤 숫자로 매핑되었는지 확인이 어렵다. 주의\n",
    "\n",
    "np.stack은 두개 이상의 넘파이 객체를 합칠 때 사용  \n",
    "> 넘파이 객체를 합칠 때 사용하는 메서드로는 np.stack와 np.concatenate가 있음.  \n",
    "> 이 두 메서드는 차원의 유지 여부에 대한 차이가 있음. np.concatenate는 선택한 축을 기준으로 두개의 배열을 연결  \n",
    "> np.stack은 배열을 새로운 축으로 합쳐 줌. 예를 들어 1차원 배열을 합쳐서 2차원배열로, 2차원 배열을 합쳐 3차원 배열로 만듬  \n",
    "[추가자료_링크참조](https://thebook.io/080289/0073/)"
   ]
  },
  {
   "cell_type": "markdown",
   "id": "fd69554a-67b9-41c8-832e-092ddbd31782",
   "metadata": {},
   "source": [
    "#### torch 모듈을 이용하여 배열을 텐서로 변환"
   ]
  },
  {
   "cell_type": "code",
   "execution_count": 6,
   "id": "3b24f74a-d668-4fc5-8b01-4b4e605b1d68",
   "metadata": {},
   "outputs": [
    {
     "data": {
      "text/plain": [
       "tensor([[3, 3, 0, 0, 2, 1],\n",
       "        [3, 3, 0, 0, 2, 2],\n",
       "        [3, 3, 0, 0, 2, 0],\n",
       "        [3, 3, 0, 0, 1, 1],\n",
       "        [3, 3, 0, 0, 1, 2],\n",
       "        [3, 3, 0, 0, 1, 0],\n",
       "        [3, 3, 0, 0, 0, 1],\n",
       "        [3, 3, 0, 0, 0, 2],\n",
       "        [3, 3, 0, 0, 0, 0],\n",
       "        [3, 3, 0, 1, 2, 1]])"
      ]
     },
     "execution_count": 6,
     "metadata": {},
     "output_type": "execute_result"
    }
   ],
   "source": [
    "categorical_data = torch.tensor(categorical_data, dtype=torch.int64)\n",
    "categorical_data[:10]"
   ]
  },
  {
   "cell_type": "markdown",
   "id": "370c0c45-f991-43b4-91fa-67323f28305c",
   "metadata": {},
   "source": [
    "#### 레이블(outputs)로 사용할 칼럼도 텐서로 변환. 이번에는 get_dummies를 이용하여 넘파이 배열로 변환"
   ]
  },
  {
   "cell_type": "code",
   "execution_count": 7,
   "id": "4f633ff6-670e-49f9-a69b-43673c218e07",
   "metadata": {},
   "outputs": [
    {
     "name": "stdout",
     "output_type": "stream",
     "text": [
      "torch.Size([1728, 6])\n",
      "torch.Size([6912])\n"
     ]
    }
   ],
   "source": [
    "outputs = pd.get_dummies(dataset.output)\n",
    "outputs = outputs.values\n",
    "outputs = torch.tensor(outputs).flatten()   # 1차원 텐서로 변환\n",
    "\n",
    "print(categorical_data.shape)\n",
    "print(outputs.shape)"
   ]
  },
  {
   "cell_type": "markdown",
   "id": "3ea4bd82-aa21-4a48-bca0-ad93cbdb1403",
   "metadata": {},
   "source": [
    "get_dummies는 가변수(dummy variable)로 만들어 주는 함수. 가변수란 문자를 숫자(0,1)로 바꾸어 준다는 의미  \n",
    "[가변수 링크1](https://thebook.io/080289/0075/)  \n",
    "[가변수 링크2](https://thebook.io/080289/0076/)  \n",
    "  \n",
    "flatten() 텐서의 차원을 바꿀 때 사용  \n",
    "[flatten 참조링크](https://thebook.io/080289/0076/)"
   ]
  },
  {
   "cell_type": "markdown",
   "id": "b353dab3-21e9-43ac-b3a3-80606e6b715d",
   "metadata": {},
   "source": [
    "#### 워드 임베딩  [외부참조링크](https://syncly.app/ko/blog/what-is-embedding-and-how-to-use)  \n",
    "워드 임베딩은 유사한 단어끼리 유사하게 인코딩되도록 표현하는 방법.  \n",
    "높은 차원일 수록 단어 간의 세부적인 관계를 잘 파악할 수 있으므로 단일 숫자로 변환된 넘파이 배열을 N차원으로 변경하여 사용  \n",
    "  \n",
    "  배열을 N차원으로 변환하기 위해 모든 범주형 칼럼에 대한 임베딩 크기(벡터 차원)를 정의  \n",
    "  임베딩 크기에 대한 규칙은 없지만, 칼럼의 고육 밧 수를 2로 나누는 것을 많이 사용 \n",
    "  \n",
    "  다음 코드를 이용하여 (칼럼고육값수, 차원의크기)형태로 배열을 만듬"
   ]
  },
  {
   "cell_type": "code",
   "execution_count": 8,
   "id": "432855a0-a729-49f4-9408-8c66b3c31948",
   "metadata": {},
   "outputs": [
    {
     "name": "stdout",
     "output_type": "stream",
     "text": [
      "[(4, 2), (4, 2), (4, 2), (3, 2), (3, 2), (3, 2)]\n"
     ]
    }
   ],
   "source": [
    "categorical_column_sizes = [ len(dataset[column].cat.categories) for column in categorical_columns]\n",
    "categorical_embedding_sizes = [(col_size, min(50, (col_size+1)//2)) for col_size in categorical_column_sizes]\n",
    "print(categorical_embedding_sizes)"
   ]
  },
  {
   "cell_type": "markdown",
   "id": "8bfe391e-b497-43a3-a669-bbc9e003937f",
   "metadata": {},
   "source": [
    "#### 데이터셋 분리"
   ]
  },
  {
   "cell_type": "code",
   "execution_count": 9,
   "id": "07ad5f86-148f-480e-8670-8bbdadede314",
   "metadata": {},
   "outputs": [],
   "source": [
    "total_records = 1728\n",
    "test_records = int(total_records * .2)  # 전체 데이터 중 20%를 테스트 용도로 사용\n",
    "\n",
    "categorical_train_data = categorical_data[:total_records-test_records]   # 전체 데이터 중에서 테스트에 사용될 데이터를 제외한 나머지 데이터를 훈련 데이터로 설정\n",
    "categorical_test_data = categorical_data[total_records-test_records:total_records] # 데이터를 분할하기 위해 전체 데이터 크기에서 테스트 데이터 크기를 뺀 인덱스부터 끝까지의 데이터를 가져옴\n",
    "# 데이터를 랜덤으로 섞지 않고 일정 비율만큼 순서대로 잘라냄\n",
    "\n",
    "train_outputs = outputs[:total_records-test_records]   # 훈련 데이터에 해당하는 출력(레이블)을 설정\n",
    "test_outputs = outputs[total_records-test_records:total_records]   # 테스트 데이터에 해당하는 출력(레이블)을 설정"
   ]
  },
  {
   "cell_type": "markdown",
   "id": "5a202fc9-e205-458d-b9ae-3bf58f35dd79",
   "metadata": {},
   "source": [
    "#### 레코드 개수 출력"
   ]
  },
  {
   "cell_type": "code",
   "execution_count": 10,
   "id": "ad8a841b-0188-45a6-82c6-d93e0d60d14a",
   "metadata": {},
   "outputs": [
    {
     "name": "stdout",
     "output_type": "stream",
     "text": [
      "1383\n",
      "1383\n",
      "345\n",
      "345\n"
     ]
    }
   ],
   "source": [
    "print(len(categorical_train_data))\n",
    "print(len(train_outputs))\n",
    "print(len(categorical_test_data))\n",
    "print(len(test_outputs))"
   ]
  },
  {
   "cell_type": "markdown",
   "id": "6e9a1b2b-abe2-42fc-80b6-f85eaade4ca9",
   "metadata": {},
   "source": [
    "### 모델의 네트워크 생성"
   ]
  },
  {
   "cell_type": "code",
   "execution_count": 11,
   "id": "af26d550-0166-402d-a27e-f43973aca8b4",
   "metadata": {},
   "outputs": [],
   "source": [
    "class Model(nn.Module):\n",
    "    def __init__(self, embedding_size, output_size, layers, p=0.4):    # embedding_size:범주형 칼럼의 임베딩 크기, output_size:출력층의 크기, layers:모든 계층에 대한 목록, p:드롭아웃\n",
    "        super().__init__()\n",
    "        self.all_embeddings = nn.ModuleList([nn.Embedding(ni, nf) for ni, nf in embedding_size])\n",
    "        self.embedding_dropout = nn.Dropout(p)\n",
    "        \n",
    "        all_layers = []\n",
    "        num_categorical_cols = sum((nf for ni, nf in embedding_size))\n",
    "        input_size = num_categorical_cols      # 입력층의 크기를 찾기 위해 범주형 칼럼 개수를 input_size변주에 저장\n",
    "\n",
    "        for i in layers:            # 모델의 네크워크 계층 구축\n",
    "            all_layers.append(nn.Linear(input_size, i))\n",
    "            all_layers.append(nn.ReLU(inplace=True))\n",
    "            all_layers.append(nn.BatchNorm1d(i))        # 배치 정규화\n",
    "            all_layers.append(nn.Dropout(p))            # 과적합 방지\n",
    "            input_size = i\n",
    "\n",
    "        all_layers.append(nn.Linear(layers[-1], output_size))\n",
    "        self.layers = nn.Sequential(*all_layers)\n",
    "\n",
    "    def forward(self, x_categorical):      #forward함수는 모델 객체를 데이터와 함께 호출하면 자동으로 실행\n",
    "        embeddings = []\n",
    "        for i,e in enumerate(self.all_embeddings):\n",
    "            embeddings.append(e(x_categorical[:,i]))\n",
    "        x = torch.cat(embeddings, 1)\n",
    "        x = self.embedding_dropout(x)\n",
    "        x = self.layers(x)\n",
    "        return x"
   ]
  },
  {
   "cell_type": "markdown",
   "id": "b1ed89b9-c136-47a1-96be-6409a345d7c8",
   "metadata": {},
   "source": [
    "[코드설명 링크1](https://thebook.io/080289/0080/)  \n",
    "[코드설명 링크2](https://thebook.io/080289/0081/)  \n"
   ]
  },
  {
   "cell_type": "markdown",
   "id": "13b1f068-c874-49a5-be47-c191f281df07",
   "metadata": {},
   "source": [
    "### 모델 클래스 객체 생성  \n",
    "객체를 생성하면서 범주형 칼럼의 임베딩 크기, 출력 크기, 은닉층의 뉴런, 드롭아웃을 전달.   \n",
    "여기에서 은닉층을 [200, 100, 50]으로 정의했지만 다른 크기로 변경해서 테스트 해보면 좋음"
   ]
  },
  {
   "cell_type": "code",
   "execution_count": 12,
   "id": "de6cb717-8df2-40b6-a900-86dda33ca18f",
   "metadata": {},
   "outputs": [
    {
     "name": "stdout",
     "output_type": "stream",
     "text": [
      "Model(\n",
      "  (all_embeddings): ModuleList(\n",
      "    (0-2): 3 x Embedding(4, 2)\n",
      "    (3-5): 3 x Embedding(3, 2)\n",
      "  )\n",
      "  (embedding_dropout): Dropout(p=0.4, inplace=False)\n",
      "  (layers): Sequential(\n",
      "    (0): Linear(in_features=12, out_features=200, bias=True)\n",
      "    (1): ReLU(inplace=True)\n",
      "    (2): BatchNorm1d(200, eps=1e-05, momentum=0.1, affine=True, track_running_stats=True)\n",
      "    (3): Dropout(p=0.4, inplace=False)\n",
      "    (4): Linear(in_features=200, out_features=100, bias=True)\n",
      "    (5): ReLU(inplace=True)\n",
      "    (6): BatchNorm1d(100, eps=1e-05, momentum=0.1, affine=True, track_running_stats=True)\n",
      "    (7): Dropout(p=0.4, inplace=False)\n",
      "    (8): Linear(in_features=100, out_features=50, bias=True)\n",
      "    (9): ReLU(inplace=True)\n",
      "    (10): BatchNorm1d(50, eps=1e-05, momentum=0.1, affine=True, track_running_stats=True)\n",
      "    (11): Dropout(p=0.4, inplace=False)\n",
      "    (12): Linear(in_features=50, out_features=4, bias=True)\n",
      "  )\n",
      ")\n"
     ]
    }
   ],
   "source": [
    "model = Model(categorical_embedding_sizes, 4, [200,100,50], p=0.4)\n",
    "print(model)"
   ]
  },
  {
   "cell_type": "markdown",
   "id": "8081459b-a035-4ed3-9ba9-31d50a354ff3",
   "metadata": {},
   "source": [
    "#### 모델 파라미터의 정의  \n",
    "모델을 훈련시키기 전에 손실 함수와 옵티마이저에 대해 정의. 크로스엔트로피 손실함수 사용(데이터 분류를 위해)"
   ]
  },
  {
   "cell_type": "code",
   "execution_count": 13,
   "id": "c0246483-ea7c-4678-abd7-fc78aaefd5a4",
   "metadata": {},
   "outputs": [],
   "source": [
    "loss_function = nn.CrossEntropyLoss()\n",
    "optimizer = torch.optim.Adam(model.parameters(), lr=0.001)"
   ]
  },
  {
   "cell_type": "markdown",
   "id": "526efb48-468d-4c45-b6d2-dc4584c8d2e2",
   "metadata": {},
   "source": [
    "#### CPU/GPU 사용 지정"
   ]
  },
  {
   "cell_type": "code",
   "execution_count": 14,
   "id": "1fb063c4-79a3-48d8-867d-b4ede4020c54",
   "metadata": {},
   "outputs": [],
   "source": [
    "if torch.cuda.is_available():\n",
    "    device = torch.device('cuda')\n",
    "else:\n",
    "    device = torch.device('cpu')"
   ]
  },
  {
   "cell_type": "markdown",
   "id": "b009a4b4-c343-400b-a135-d271e1257d7c",
   "metadata": {},
   "source": [
    "### 모델 학습"
   ]
  },
  {
   "cell_type": "code",
   "execution_count": 15,
   "id": "8e7507db-35dd-4df5-8de6-05542562c334",
   "metadata": {},
   "outputs": [
    {
     "name": "stdout",
     "output_type": "stream",
     "text": [
      "epoch:   1 loss: 1.57286179\n",
      "epoch:  26 loss: 1.40729845\n",
      "epoch:  51 loss: 1.31020188\n",
      "epoch:  76 loss: 1.19246662\n",
      "epoch: 101 loss: 1.07033968\n",
      "epoch: 126 loss: 0.93098110\n",
      "epoch: 151 loss: 0.81248862\n",
      "epoch: 176 loss: 0.74955106\n",
      "epoch: 201 loss: 0.68501657\n",
      "epoch: 226 loss: 0.64224660\n",
      "epoch: 251 loss: 0.62728816\n",
      "epoch: 276 loss: 0.61604786\n",
      "epoch: 301 loss: 0.59971488\n",
      "epoch: 326 loss: 0.60007071\n",
      "epoch: 351 loss: 0.59129173\n",
      "epoch: 376 loss: 0.58301574\n",
      "epoch: 401 loss: 0.57259554\n",
      "epoch: 426 loss: 0.56599820\n",
      "epoch: 451 loss: 0.57201564\n",
      "epoch: 476 loss: 0.57023090\n",
      "epoch: 500 loss: 0.5606654286\n"
     ]
    }
   ],
   "source": [
    "epochs = 500\n",
    "aggregated_losses = []\n",
    "train_outputs = train_outputs.to(device=device, dtype=torch.int64)\n",
    "for i in range(epochs):\n",
    "    i += 1\n",
    "    y_pred = model(categorical_train_data).to(device)     #data의 위치가 cpu에 있을 때 .to(device)를 사용해 GPU로 옮겨 줄 필요 있음.\n",
    "    single_loss = loss_function(y_pred, train_outputs)\n",
    "    aggregated_losses.append(single_loss)\n",
    "\n",
    "    if i%25 == 1:\n",
    "        print(f'epoch: {i:3} loss: {single_loss.item():10.8f}')\n",
    "\n",
    "    optimizer.zero_grad()\n",
    "    single_loss.backward()\n",
    "    optimizer.step()\n",
    "\n",
    "print(f'epoch: {i:3} loss: {single_loss.item():10.10f}')"
   ]
  },
  {
   "cell_type": "markdown",
   "id": "aed3140b-60c9-44d0-ab7d-0077be745c21",
   "metadata": {},
   "source": [
    "### 테스트 데이터셋으로 모델 예측"
   ]
  },
  {
   "cell_type": "code",
   "execution_count": 16,
   "id": "47918d20-0f71-4a2a-ba9b-b36d6acad865",
   "metadata": {},
   "outputs": [
    {
     "name": "stdout",
     "output_type": "stream",
     "text": [
      "Loss: 0.56478781\n"
     ]
    }
   ],
   "source": [
    "test_outputs = test_outputs.to(device=device, dtype=torch.int64)\n",
    "with torch.no_grad():\n",
    "    y_val = model(categorical_test_data).to(device)    # 여기도 gpu로 데이타 옮김\n",
    "    loss = loss_function(y_val, test_outputs)\n",
    "print(f'Loss: {loss:.8f}')"
   ]
  },
  {
   "cell_type": "markdown",
   "id": "e50bfc68-0974-4169-b206-e7557192ad5e",
   "metadata": {},
   "source": [
    "데이터셋에 대한 손실 값  \n",
    "이 값은 훈련 데이터셋에서 도출된 손실 값과 비슷하므로 과적합은 발생하지 않았다고 판단할 수 있음"
   ]
  },
  {
   "cell_type": "markdown",
   "id": "93d9401b-9ee7-4cad-85bd-fb845054e433",
   "metadata": {},
   "source": [
    "### 모델을 이용한 예측 확인"
   ]
  },
  {
   "cell_type": "code",
   "execution_count": 17,
   "id": "07aada23-40a8-4429-8e55-352f1f5a38fc",
   "metadata": {},
   "outputs": [
    {
     "name": "stdout",
     "output_type": "stream",
     "text": [
      "tensor([[ 2.4743,  1.4028, -2.9926, -2.8143],\n",
      "        [ 3.5817,  2.4064, -3.6456, -3.4183],\n",
      "        [ 2.0039,  1.5060, -1.6093, -1.5086],\n",
      "        [ 3.7428,  2.7412, -5.3829, -5.0506],\n",
      "        [ 2.8706,  2.0488, -2.4857, -2.4823]], device='cuda:0')\n"
     ]
    }
   ],
   "source": [
    "print(y_val[:5])"
   ]
  },
  {
   "cell_type": "markdown",
   "id": "f8d0b5e9-0537-4a33-b101-14b1bdfcf26b",
   "metadata": {},
   "source": [
    "앞에서 모델 네트워크의 output_size에 4를 지정했으므로, 출력층에 4개의 뉴런이 포함되도록 지정한 것. 따라서 예측값에는 4개의 값이 포함 됨."
   ]
  },
  {
   "cell_type": "markdown",
   "id": "e5055047-3df0-4dc8-b3ea-9b2ae4089235",
   "metadata": {},
   "source": [
    "출력 값의 의미 파악 어려움.  \n",
    "실제 출력이 0이면 인덱스 0(예 2.4743)의 값이 인덱스1(예 1.4028)의 값보다 높아야 함  \n",
    "따라서 목록에서 가장 큰 값을 갖는 인덱스를 알아 보아야 함. 실제 값이 아닌 인덱스를 찾는 것"
   ]
  },
  {
   "cell_type": "code",
   "execution_count": 20,
   "id": "c5fa6134-bb6f-4e2c-b7ec-8470220ac20a",
   "metadata": {},
   "outputs": [
    {
     "name": "stdout",
     "output_type": "stream",
     "text": [
      "tensor([0, 0, 0, 0, 0])\n"
     ]
    }
   ],
   "source": [
    "y_val = y_val.to(device='cpu')    # 데이타 cpu로 전달해 줌\n",
    "y_val = np.argmax(y_val, axis=1)\n",
    "print(y_val[:5])"
   ]
  },
  {
   "cell_type": "markdown",
   "id": "b744a60e-8313-4d92-929a-985fc0c454ee",
   "metadata": {},
   "source": [
    "출력 결과 모두 인덱스 0이 출력. 즉, 인덱스가 0인 값이 인덱스가 1인 값보다 크므로 처리된 출력이 0임을 확인할 수 있다."
   ]
  },
  {
   "cell_type": "markdown",
   "id": "8348a44a-47c1-4420-9229-7de215f2d5f5",
   "metadata": {},
   "source": [
    "### 테스트 데이터셋을 이용한 정확도 확인"
   ]
  },
  {
   "cell_type": "code",
   "execution_count": 31,
   "id": "6ed4e639-0f82-4e1d-8705-4e5db7c17e79",
   "metadata": {},
   "outputs": [
    {
     "name": "stdout",
     "output_type": "stream",
     "text": [
      "[[259   0]\n",
      " [ 86   0]]\n",
      "              precision    recall  f1-score   support\n",
      "\n",
      "           0       0.75      1.00      0.86       259\n",
      "           1       0.00      0.00      0.00        86\n",
      "\n",
      "    accuracy                           0.75       345\n",
      "   macro avg       0.38      0.50      0.43       345\n",
      "weighted avg       0.56      0.75      0.64       345\n",
      "\n",
      "0.7507246376811594\n"
     ]
    },
    {
     "name": "stderr",
     "output_type": "stream",
     "text": [
      "C:\\Users\\AI-space\\anaconda3\\envs\\ve_torch\\lib\\site-packages\\sklearn\\metrics\\_classification.py:1344: UndefinedMetricWarning: Precision and F-score are ill-defined and being set to 0.0 in labels with no predicted samples. Use `zero_division` parameter to control this behavior.\n",
      "  _warn_prf(average, modifier, msg_start, len(result))\n",
      "C:\\Users\\AI-space\\anaconda3\\envs\\ve_torch\\lib\\site-packages\\sklearn\\metrics\\_classification.py:1344: UndefinedMetricWarning: Precision and F-score are ill-defined and being set to 0.0 in labels with no predicted samples. Use `zero_division` parameter to control this behavior.\n",
      "  _warn_prf(average, modifier, msg_start, len(result))\n",
      "C:\\Users\\AI-space\\anaconda3\\envs\\ve_torch\\lib\\site-packages\\sklearn\\metrics\\_classification.py:1344: UndefinedMetricWarning: Precision and F-score are ill-defined and being set to 0.0 in labels with no predicted samples. Use `zero_division` parameter to control this behavior.\n",
      "  _warn_prf(average, modifier, msg_start, len(result))\n"
     ]
    }
   ],
   "source": [
    "from sklearn.metrics import classification_report, confusion_matrix, accuracy_score\n",
    "\n",
    "y_val = y_val.to(device='cpu')\n",
    "test_outputs = test_outputs.to(device='cpu')\n",
    "print(confusion_matrix(test_outputs,y_val))\n",
    "print(classification_report(test_outputs,y_val))\n",
    "print(accuracy_score(test_outputs, y_val))"
   ]
  },
  {
   "cell_type": "code",
   "execution_count": null,
   "id": "7fe43692-ed0b-441f-8f3a-1e194d2910ab",
   "metadata": {},
   "outputs": [],
   "source": []
  }
 ],
 "metadata": {
  "kernelspec": {
   "display_name": "ve_torch_kernel",
   "language": "python",
   "name": "ve_torch"
  },
  "language_info": {
   "codemirror_mode": {
    "name": "ipython",
    "version": 3
   },
   "file_extension": ".py",
   "mimetype": "text/x-python",
   "name": "python",
   "nbconvert_exporter": "python",
   "pygments_lexer": "ipython3",
   "version": "3.10.11"
  }
 },
 "nbformat": 4,
 "nbformat_minor": 5
}
